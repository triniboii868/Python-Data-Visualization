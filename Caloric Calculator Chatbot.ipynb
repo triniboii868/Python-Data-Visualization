{
  "nbformat": 4,
  "nbformat_minor": 0,
  "metadata": {
    "colab": {
      "provenance": []
    },
    "kernelspec": {
      "name": "python3",
      "display_name": "Python 3"
    },
    "language_info": {
      "name": "python"
    }
  },
  "cells": [
    {
      "cell_type": "code",
      "execution_count": null,
      "metadata": {
        "id": "Yj0gL3uDwCJN",
        "colab": {
          "base_uri": "https://localhost:8080/"
        },
        "outputId": "8c0b112d-e4b6-4f80-d609-8ec33bdfb57d"
      },
      "outputs": [
        {
          "output_type": "stream",
          "name": "stdout",
          "text": [
            "Enter your actual daily caloric intake:\n"
          ]
        }
      ],
      "source": [
        "# MY CHATBOT IS DESIGNED TO HANDLE USER'S INPUT OF WEIGHT, CALORIC INTAKE, AND HEIGHT AND SUGGEST A MEAL PLAN BASED ON THEIR INPUTS\n",
        "# DESIGNED AND CANNIBALIZED BY MARC ROBERTSON // DATED: 11/10/2024\n",
        "# FIRST VS OF FINAL PROJECT\n",
        "\n",
        "# Reads and processes the nutrition data from a CSV file.\n",
        "def read_nutrition_data(filename):\n",
        "    nutrition_data = []\n",
        "    with open(filename, 'r') as file:\n",
        "        # Skip the header line\n",
        "        next(file)\n",
        "        for line in file:\n",
        "            # Skip empty lines\n",
        "            if not line.strip():\n",
        "                continue\n",
        "\n",
        "            # Split the line and ensure it has exactly 8 values\n",
        "            values = line.strip().split(',')\n",
        "            if len(values) != 8:\n",
        "                continue\n",
        "\n",
        "            min_height, max_height, min_weight, max_weight, ideal_calories, meal_plan_less, meal_plan_equal, meal_plan_high = values\n",
        "\n",
        "            # Remove non-numeric characters from ideal_calories before converting to int\n",
        "            ideal_calories = ''.join(filter(str.isdigit, ideal_calories))\n",
        "\n",
        "            nutrition_data.append((\n",
        "                float(min_height), float(max_height),\n",
        "                float(min_weight), float(max_weight),\n",
        "                int(ideal_calories), str(meal_plan_less), str(meal_plan_equal), str(meal_plan_high)\n",
        "            ))\n",
        "    return nutrition_data\n",
        "\n",
        "# Matches the user’s height and weight against the ranges in the nutrition_data to determine the ideal caloric intake and corresponding meal plans.\n",
        "def get_ideal_caloric_intake_and_meal_plan(height, weight, nutrition_data):\n",
        "    for min_height, max_height, min_weight, max_weight, ideal_calories, meal_plan_less, meal_plan_equal, meal_plan_high in nutrition_data:\n",
        "        if min_height <= height <= max_height and min_weight <= weight <= max_weight:\n",
        "            return ideal_calories, meal_plan_less, meal_plan_equal, meal_plan_high\n",
        "    return -1, \"\", \"\", \"\"\n",
        "\n",
        "\n",
        "def main():\n",
        "    # Load nutrition data from file\n",
        "    nutrition_data = read_nutrition_data(\"/content/nutrition_folder/nutrition.csv\")\n",
        "\n",
        "    # Loop to allow multiple entries\n",
        "    while True:\n",
        "        # Get user inputs\n",
        "        print(\"Enter your actual daily caloric intake:\")\n",
        "        actual_caloric_intake = int(input())\n",
        "\n",
        "        print(\"Enter your height in cm:\")\n",
        "        body_height = float(input())\n",
        "\n",
        "        print(\"Enter your body weight in kg:\")\n",
        "        body_weight = float(input())\n",
        "\n",
        "        # Get ideal caloric intake and meal plan based on user height and weight\n",
        "        ideal_caloric_intake, meal_plan_less, meal_plan_equal, meal_plan_high = get_ideal_caloric_intake_and_meal_plan(body_height, body_weight, nutrition_data)\n",
        "\n",
        "        # Debugging: Check the actual vs ideal intake values\n",
        "        # print(f\"Debugging: Ideal caloric intake = {ideal_caloric_intake}, Actual caloric intake = {actual_caloric_intake}\")\n",
        "\n",
        "        # Display results\n",
        "        if ideal_caloric_intake <= -1:\n",
        "            print(\"No ideal caloric intake and meal plan found for your height and weight range.\")\n",
        "        else:\n",
        "            print(f\"Your ideal caloric intake should be: {ideal_caloric_intake} calories.\")\n",
        "\n",
        "            # Debugging: Check the condition comparisons\n",
        "            if actual_caloric_intake > ideal_caloric_intake:\n",
        "               # print(\"Debugging: Actual intake is greater than ideal intake.\")\n",
        "                print(\"You are consuming more than the ideal intake.\")\n",
        "                print(\"Recommended meal plan to reduce intake:\")\n",
        "                print(meal_plan_less)  # Too much intake, recommend the \"high\" meal plan\n",
        "\n",
        "            elif actual_caloric_intake < ideal_caloric_intake:\n",
        "               # print(\"Debugging: Actual intake is less than ideal intake.\")\n",
        "                print(\"You are consuming less than the ideal intake.\")\n",
        "                print(\"Recommended meal plan to increase intake:\")\n",
        "                print(meal_plan_high)  # Too little intake, recommend the \"less\" meal plan\n",
        "\n",
        "            else:\n",
        "               # print(\"Debugging: Actual intake equals the ideal intake.\")\n",
        "                print(\"You are consuming the ideal amount of calories.\")\n",
        "                print(\"Recommended meal plan to maintain intake:\")\n",
        "                print(meal_plan_equal)  # Perfect intake, recommend the \"equal\" meal plan\n",
        "\n",
        "        # Ask user if they want to enter another set of parameters\n",
        "        print(\"Do you want to enter another set of parameters? (y/n):\")\n",
        "        choice = input().strip().lower()\n",
        "        if choice != 'y':\n",
        "            print(\"Thank you for using the IDEAL CALORIC CALCULATOR.\")\n",
        "            break\n",
        "\n",
        "# Ensures the program runs only when executed directly (not when imported as a module).\n",
        "if __name__ == \"__main__\":\n",
        "    main()\n"
      ]
    }
  ]
}